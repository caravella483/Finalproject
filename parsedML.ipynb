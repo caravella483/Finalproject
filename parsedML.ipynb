{
 "cells": [
  {
   "cell_type": "code",
   "execution_count": 2,
   "metadata": {},
   "outputs": [],
   "source": [
    "# Dependencies\n",
    "\n",
    "import pandas as pd\n",
    "import numpy as np\n",
    "from sklearn.feature_extraction.text import CountVectorizer\n",
    "from sklearn.model_selection import train_test_split\n",
    "from sklearn.metrics import classification_report\n",
    "import matplotlib.pyplot as plt\n",
    "from sklearn.metrics import confusion_matrix \n",
    "from sklearn.metrics import accuracy_score"
   ]
  },
  {
   "cell_type": "code",
   "execution_count": 3,
   "metadata": {},
   "outputs": [
    {
     "data": {
      "text/plain": [
       "Reviewer_Nationality    181700\n",
       "Negative_Review         181700\n",
       "Content_Parsed          181700\n",
       "dtype: int64"
      ]
     },
     "execution_count": 3,
     "metadata": {},
     "output_type": "execute_result"
    }
   ],
   "source": [
    "#data frame for legal status and pop\n",
    "hr_df = pd.read_csv(\"parsed.csv\")\n",
    "hr_df.count()"
   ]
  },
  {
   "cell_type": "code",
   "execution_count": 5,
   "metadata": {},
   "outputs": [
    {
     "data": {
      "text/html": [
       "<div>\n",
       "<style scoped>\n",
       "    .dataframe tbody tr th:only-of-type {\n",
       "        vertical-align: middle;\n",
       "    }\n",
       "\n",
       "    .dataframe tbody tr th {\n",
       "        vertical-align: top;\n",
       "    }\n",
       "\n",
       "    .dataframe thead th {\n",
       "        text-align: right;\n",
       "    }\n",
       "</style>\n",
       "<table border=\"1\" class=\"dataframe\">\n",
       "  <thead>\n",
       "    <tr style=\"text-align: right;\">\n",
       "      <th></th>\n",
       "      <th>Reviewer_Nationality</th>\n",
       "      <th>Negative_Review</th>\n",
       "      <th>Content_Parsed</th>\n",
       "    </tr>\n",
       "  </thead>\n",
       "  <tbody>\n",
       "    <tr>\n",
       "      <th>0</th>\n",
       "      <td>Australia</td>\n",
       "      <td>Rooms are nice but for elderly a bit difficul...</td>\n",
       "      <td>room  nice   elderly  bite difficult   room  ...</td>\n",
       "    </tr>\n",
       "    <tr>\n",
       "      <th>1</th>\n",
       "      <td>Australia</td>\n",
       "      <td>We had issues with our electronic key everyda...</td>\n",
       "      <td>issue   electronic key everyday  deactivate...</td>\n",
       "    </tr>\n",
       "    <tr>\n",
       "      <th>2</th>\n",
       "      <td>Australia</td>\n",
       "      <td>it s a shame about all the construction going...</td>\n",
       "      <td>shame    construction go    look like   be...</td>\n",
       "    </tr>\n",
       "    <tr>\n",
       "      <th>3</th>\n",
       "      <td>Australia</td>\n",
       "      <td>Foyer was a mess Only place to relax was the ...</td>\n",
       "      <td>foyer   mess  place  relax   bar     comforta...</td>\n",
       "    </tr>\n",
       "    <tr>\n",
       "      <th>4</th>\n",
       "      <td>Australia</td>\n",
       "      <td>Room could have done with a microwave our roo...</td>\n",
       "      <td>room could     microwave  room   small leak  ...</td>\n",
       "    </tr>\n",
       "  </tbody>\n",
       "</table>\n",
       "</div>"
      ],
      "text/plain": [
       "  Reviewer_Nationality                                    Negative_Review  \\\n",
       "0            Australia   Rooms are nice but for elderly a bit difficul...   \n",
       "1            Australia   We had issues with our electronic key everyda...   \n",
       "2            Australia   it s a shame about all the construction going...   \n",
       "3            Australia   Foyer was a mess Only place to relax was the ...   \n",
       "4            Australia   Room could have done with a microwave our roo...   \n",
       "\n",
       "                                      Content_Parsed  \n",
       "0   room  nice   elderly  bite difficult   room  ...  \n",
       "1     issue   electronic key everyday  deactivate...  \n",
       "2      shame    construction go    look like   be...  \n",
       "3   foyer   mess  place  relax   bar     comforta...  \n",
       "4   room could     microwave  room   small leak  ...  "
      ]
     },
     "execution_count": 5,
     "metadata": {},
     "output_type": "execute_result"
    }
   ],
   "source": [
    "hr_df.head()"
   ]
  },
  {
   "cell_type": "code",
   "execution_count": 6,
   "metadata": {},
   "outputs": [
    {
     "name": "stdout",
     "output_type": "stream",
     "text": [
      "(181700,) (181700,)\n"
     ]
    }
   ],
   "source": [
    "X = hr_df[\"Content_Parsed\"].values.astype(\"U\")\n",
    "y = hr_df[\"Reviewer_Nationality\"]\n",
    "print(X.shape, y.shape)"
   ]
  },
  {
   "cell_type": "code",
   "execution_count": 7,
   "metadata": {},
   "outputs": [
    {
     "data": {
      "text/plain": [
       "(' room  nice   elderly  bite difficult   room  two story  narrow step  ask  single level inside  room    basic  tea coffee  boiler   bar empty fridge ',\n",
       " 'Australia')"
      ]
     },
     "execution_count": 7,
     "metadata": {},
     "output_type": "execute_result"
    }
   ],
   "source": [
    "X[0],y[0]"
   ]
  },
  {
   "cell_type": "code",
   "execution_count": 8,
   "metadata": {},
   "outputs": [
    {
     "name": "stdout",
     "output_type": "stream",
     "text": [
      "UnitedKingdom            121946\n",
      "UnitedStatesofAmerica     16661\n",
      "Australia                  9949\n",
      "Ireland                    7302\n",
      "UnitedArabEmirates         4749\n",
      "Switzerland                4650\n",
      "Netherlands                4595\n",
      "Germany                    4236\n",
      "Canada                     3894\n",
      "SaudiArabia                3718\n",
      "Name: Reviewer_Nationality, dtype: int64\n"
     ]
    }
   ],
   "source": [
    "print(hr_df[\"Reviewer_Nationality\"].value_counts())"
   ]
  },
  {
   "cell_type": "code",
   "execution_count": 9,
   "metadata": {},
   "outputs": [],
   "source": [
    "cv = CountVectorizer()\n",
    "X = cv.fit_transform(X) # Fit the Data"
   ]
  },
  {
   "cell_type": "code",
   "execution_count": 10,
   "metadata": {},
   "outputs": [],
   "source": [
    "X_train, X_test, y_train, y_test = train_test_split(X, y, test_size=0.33, random_state=42)\n",
    "from sklearn.feature_extraction.text import CountVectorizer ,TfidfVectorizer"
   ]
  },
  {
   "cell_type": "code",
   "execution_count": 11,
   "metadata": {},
   "outputs": [],
   "source": [
    "# Function to calculate accuracy , confusion matrix, classification report\n",
    "def cal_accuracy(y_test, y_pred): \n",
    "      \n",
    "    print(\"\"\"\\nConfusion Matrix: \\n\"\"\", \n",
    "        confusion_matrix(y_test, y_pred)) \n",
    "      \n",
    "    print (\"\\nAccuracy : \\n\", \n",
    "    accuracy_score(y_test,y_pred)*100) \n",
    "      \n",
    "    print(\"\\nClassification Report : \\n\", \n",
    "    classification_report(y_test, y_pred))"
   ]
  },
  {
   "cell_type": "code",
   "execution_count": 12,
   "metadata": {},
   "outputs": [],
   "source": [
    "# Function to calculate accuracy score\n",
    "def model_accuracy(y_test, y_pred): \n",
    "        return accuracy_score(y_test,y_pred)*100"
   ]
  },
  {
   "cell_type": "code",
   "execution_count": 13,
   "metadata": {},
   "outputs": [],
   "source": [
    "from sklearn.naive_bayes import MultinomialNB"
   ]
  },
  {
   "cell_type": "code",
   "execution_count": 14,
   "metadata": {},
   "outputs": [
    {
     "name": "stdout",
     "output_type": "stream",
     "text": [
      "\n",
      "Confusion Matrix: \n",
      " [[   69     0     0     3     1     0     3     1  2919   206]\n",
      " [   13     3     2     3     0     2     2     4   976   273]\n",
      " [   12     1    11     5     5     4     7     2  1143   177]\n",
      " [    9     0     0    16     1     1     0     3  2230    93]\n",
      " [   13     0     6     3    27     2     2     4  1320   155]\n",
      " [    8     1     3     5     1    27     7    31  1057   168]\n",
      " [   15     0    11     6     3     1    12     5  1288   184]\n",
      " [   10     0     3     6     1    14     4    21  1399   145]\n",
      " [  153     3    12    85    20     7    24    32 39181   733]\n",
      " [   25     5     1    10     5     4     3     8  3828  1654]]\n",
      "\n",
      "Accuracy : \n",
      " 68.4128016544087\n",
      "\n",
      "Classification Report : \n",
      "                        precision    recall  f1-score   support\n",
      "\n",
      "            Australia       0.21      0.02      0.04      3202\n",
      "               Canada       0.23      0.00      0.00      1278\n",
      "              Germany       0.22      0.01      0.02      1367\n",
      "              Ireland       0.11      0.01      0.01      2353\n",
      "          Netherlands       0.42      0.02      0.03      1532\n",
      "          SaudiArabia       0.44      0.02      0.04      1308\n",
      "          Switzerland       0.19      0.01      0.02      1525\n",
      "   UnitedArabEmirates       0.19      0.01      0.02      1603\n",
      "        UnitedKingdom       0.71      0.97      0.82     40250\n",
      "UnitedStatesofAmerica       0.44      0.30      0.35      5543\n",
      "\n",
      "             accuracy                           0.68     59961\n",
      "            macro avg       0.32      0.14      0.14     59961\n",
      "         weighted avg       0.57      0.68      0.59     59961\n",
      "\n"
     ]
    }
   ],
   "source": [
    "# Naive Bayes Model\n",
    "clf = MultinomialNB()\n",
    "# Model Fit\n",
    "clf.fit(X_train,y_train)\n",
    "# Model Score\n",
    "clf.score(X_test,y_test)\n",
    "# Model Prediction\n",
    "y_pred = clf.predict(X_test)\n",
    "# Model Accuracy\n",
    "cal_accuracy(y_test, y_pred)\n",
    "NB_accuracy = model_accuracy(y_test, y_pred)"
   ]
  },
  {
   "cell_type": "code",
   "execution_count": 15,
   "metadata": {},
   "outputs": [
    {
     "data": {
      "image/png": "[encoded data removed]",
      "text/plain": [
       "<Figure size 432x288 with 1 Axes>"
      ]
     },
     "metadata": {
      "needs_background": "light"
     },
     "output_type": "display_data"
    }
   ],
   "source": [
    "# Visualization of Confusion Matrix\n",
    "cm = confusion_matrix(y_test, y_pred)\n",
    "plt.clf()\n",
    "plt.imshow(cm, interpolation='nearest', cmap=plt.cm.Wistia)\n",
    "classNames = ['Australia','Canada','Germany','Ireland','Netherlands','Saudi Arabia', 'Switzerland','United Arab Emirates','United Kingdom','United States of America']\n",
    "plt.title('Reviews Nationality\\n')\n",
    "plt.ylabel('True label\\n')\n",
    "plt.xlabel('\\nPredicted label')\n",
    "tick_marks = np.arange(len(classNames))\n",
    "plt.xticks(tick_marks, classNames, rotation=90)\n",
    "plt.yticks(tick_marks, classNames)\n",
    "s = [['TN','FP'], ['FN', 'TP']]\n",
    "for i in range(2):\n",
    "    for j in range(2):\n",
    "        plt.text(j,i, str(s[i][j])+\" = \"+str(cm[i][j]))\n",
    "plt.show()"
   ]
  },
  {
   "cell_type": "code",
   "execution_count": 16,
   "metadata": {},
   "outputs": [],
   "source": [
    "#Random FOrest\n",
    "from sklearn import tree"
   ]
  },
  {
   "cell_type": "code",
   "execution_count": 17,
   "metadata": {},
   "outputs": [
    {
     "name": "stdout",
     "output_type": "stream",
     "text": [
      "\n",
      "Confusion Matrix: \n",
      " [[  243    46    45   114    49    51    60    49  2266   279]\n",
      " [   66    48    21    46    27    28    42    27   754   219]\n",
      " [   53    33    51    45    56    41    44    34   851   159]\n",
      " [  100    32    33    85    36    21    43    42  1805   156]\n",
      " [   74    32    35    53    86    35    48    38   949   182]\n",
      " [   48    29    25    41    36    67    32    64   811   155]\n",
      " [   75    31    49    40    47    41    54    34   980   174]\n",
      " [   63    37    26    47    46    52    45    68  1026   193]\n",
      " [ 1564   473   533  1295   560   435   574   610 31922  2284]\n",
      " [  292   160   119   153   139   126   161   124  3110  1159]]\n",
      "\n",
      "Accuracy : \n",
      " 56.34162205433532\n",
      "\n",
      "Classification Report : \n",
      "                        precision    recall  f1-score   support\n",
      "\n",
      "            Australia       0.09      0.08      0.08      3202\n",
      "               Canada       0.05      0.04      0.04      1278\n",
      "              Germany       0.05      0.04      0.04      1367\n",
      "              Ireland       0.04      0.04      0.04      2353\n",
      "          Netherlands       0.08      0.06      0.07      1532\n",
      "          SaudiArabia       0.07      0.05      0.06      1308\n",
      "          Switzerland       0.05      0.04      0.04      1525\n",
      "   UnitedArabEmirates       0.06      0.04      0.05      1603\n",
      "        UnitedKingdom       0.72      0.79      0.75     40250\n",
      "UnitedStatesofAmerica       0.23      0.21      0.22      5543\n",
      "\n",
      "             accuracy                           0.56     59961\n",
      "            macro avg       0.15      0.14      0.14     59961\n",
      "         weighted avg       0.52      0.56      0.54     59961\n",
      "\n"
     ]
    }
   ],
   "source": [
    "# Decision Tree Model\n",
    "tree_clf = tree.DecisionTreeClassifier()\n",
    "# Model Fit\n",
    "tree_clf = tree_clf.fit(X_train,y_train)\n",
    "# Model score\n",
    "tree_clf.score(X_test, y_test)\n",
    "# Model Predict\n",
    "y_tree_predicted = tree_clf.predict(X_test)\n",
    "# Model Accurarcy\n",
    "cal_accuracy(y_test, y_tree_predicted)\n",
    "DT_accuracy = model_accuracy(y_test, y_tree_predicted)"
   ]
  },
  {
   "cell_type": "code",
   "execution_count": 18,
   "metadata": {},
   "outputs": [
    {
     "ename": "NameError",
     "evalue": "name 'y_rf_predicted' is not defined",
     "output_type": "error",
     "traceback": [
      "\u001b[1;31m---------------------------------------------------------------------------\u001b[0m",
      "\u001b[1;31mNameError\u001b[0m                                 Traceback (most recent call last)",
      "\u001b[1;32m<ipython-input-18-cf87cb9a5093>\u001b[0m in \u001b[0;36m<module>\u001b[1;34m\u001b[0m\n\u001b[0;32m      1\u001b[0m \u001b[1;31m# Visualization of Confusion Matrix\u001b[0m\u001b[1;33m\u001b[0m\u001b[1;33m\u001b[0m\u001b[1;33m\u001b[0m\u001b[0m\n\u001b[1;32m----> 2\u001b[1;33m \u001b[0mcm\u001b[0m \u001b[1;33m=\u001b[0m \u001b[0mconfusion_matrix\u001b[0m\u001b[1;33m(\u001b[0m\u001b[0my_test\u001b[0m\u001b[1;33m,\u001b[0m \u001b[0my_rf_predicted\u001b[0m\u001b[1;33m)\u001b[0m\u001b[1;33m\u001b[0m\u001b[1;33m\u001b[0m\u001b[0m\n\u001b[0m\u001b[0;32m      3\u001b[0m \u001b[0mplt\u001b[0m\u001b[1;33m.\u001b[0m\u001b[0mclf\u001b[0m\u001b[1;33m(\u001b[0m\u001b[1;33m)\u001b[0m\u001b[1;33m\u001b[0m\u001b[1;33m\u001b[0m\u001b[0m\n\u001b[0;32m      4\u001b[0m \u001b[0mplt\u001b[0m\u001b[1;33m.\u001b[0m\u001b[0mimshow\u001b[0m\u001b[1;33m(\u001b[0m\u001b[0mcm\u001b[0m\u001b[1;33m,\u001b[0m \u001b[0minterpolation\u001b[0m\u001b[1;33m=\u001b[0m\u001b[1;34m'nearest'\u001b[0m\u001b[1;33m,\u001b[0m \u001b[0mcmap\u001b[0m\u001b[1;33m=\u001b[0m\u001b[0mplt\u001b[0m\u001b[1;33m.\u001b[0m\u001b[0mcm\u001b[0m\u001b[1;33m.\u001b[0m\u001b[0mWistia\u001b[0m\u001b[1;33m)\u001b[0m\u001b[1;33m\u001b[0m\u001b[1;33m\u001b[0m\u001b[0m\n\u001b[0;32m      5\u001b[0m \u001b[0mclassNames\u001b[0m \u001b[1;33m=\u001b[0m \u001b[1;33m[\u001b[0m\u001b[1;34m'Negative'\u001b[0m\u001b[1;33m,\u001b[0m\u001b[1;34m'Positive'\u001b[0m\u001b[1;33m]\u001b[0m\u001b[1;33m\u001b[0m\u001b[1;33m\u001b[0m\u001b[0m\n",
      "\u001b[1;31mNameError\u001b[0m: name 'y_rf_predicted' is not defined"
     ]
    }
   ],
   "source": [
    "# Visualization of Confusion Matrix\n",
    "cm = confusion_matrix(y_test, y_rf_predicted)\n",
    "plt.clf()\n",
    "plt.imshow(cm, interpolation='nearest', cmap=plt.cm.Wistia)\n",
    "classNames = ['Negative','Positive']\n",
    "plt.title('Reviews - Positive or Negative - Confusion Matrix - Test Data\\n')\n",
    "plt.ylabel('True label\\n')\n",
    "plt.xlabel('\\nPredicted label')\n",
    "tick_marks = np.arange(len(classNames))\n",
    "plt.xticks(tick_marks, classNames, rotation=90)\n",
    "plt.yticks(tick_marks, classNames)\n",
    "s = [['TN','FP'], ['FN', 'TP']]\n",
    "for i in range(2):\n",
    "    for j in range(2):\n",
    "        plt.text(j,i, str(s[i][j])+\" = \"+str(cm[i][j]))\n",
    "plt.show()"
   ]
  },
  {
   "cell_type": "code",
   "execution_count": null,
   "metadata": {},
   "outputs": [],
   "source": [
    "##KNN"
   ]
  },
  {
   "cell_type": "code",
   "execution_count": null,
   "metadata": {},
   "outputs": [],
   "source": [
    "\n",
    "from sklearn.neighbors import KNeighborsClassifier"
   ]
  },
  {
   "cell_type": "code",
   "execution_count": null,
   "metadata": {},
   "outputs": [],
   "source": [
    "# KNN Model\n",
    "train_scores = []\n",
    "test_scores = []\n",
    "for k in range(1, 40, 2):\n",
    "    # Knn Model\n",
    "    knn = KNeighborsClassifier(n_neighbors=k)\n",
    "    # Model Fit\n",
    "    knn.fit(X_train, y_train)\n",
    "    # Model score\n",
    "    train_score = knn.score(X_train, y_train)\n",
    "    test_score = knn.score(X_test, y_test)\n",
    "    train_scores.append(train_score)\n",
    "    test_scores.append(test_score)\n",
    "    print(f\"k: {k}, Train/Test Score: {train_score:.3f}/{test_score:.3f}\")\n",
    "    \n",
    "# Plot    \n",
    "plt.plot(range(1, 40, 2), train_scores, marker='o')\n",
    "plt.plot(range(1, 40, 2), test_scores, marker=\"x\")\n",
    "plt.xlabel(\"k neighbors\")\n",
    "plt.ylabel(\"Testing accuracy Score\")\n",
    "plt.show()"
   ]
  },
  {
   "cell_type": "code",
   "execution_count": null,
   "metadata": {},
   "outputs": [],
   "source": [
    "# Note that k: 29 provides the best accuracy where the classifier starts to stablize\n",
    "# Model\n",
    "knn = KNeighborsClassifier(n_neighbors=29)\n",
    "# Model Fit\n",
    "knn.fit(X_train, y_train)\n",
    "print(\"K= 29\")\n",
    "# Model Predict\n",
    "y_knn_predicted = knn.predict(X_test)\n",
    "# Model Accurarcy\n",
    "cal_accuracy(y_test, y_knn_predicted)\n",
    "KNN_accuracy = model_accuracy(y_test, y_knn_predicted)"
   ]
  },
  {
   "cell_type": "code",
   "execution_count": null,
   "metadata": {},
   "outputs": [],
   "source": [
    "###LR"
   ]
  },
  {
   "cell_type": "code",
   "execution_count": null,
   "metadata": {},
   "outputs": [],
   "source": [
    "# Logistic Regression Model\n",
    "lr = LogisticRegression(random_state= 42)\n",
    "# Model Fit\n",
    "lr = lr.fit(X_train, y_train)\n",
    "# Model Score\n",
    "lr.score(X_test, y_test)\n",
    "# Model Predict\n",
    "y_lr_predicted = lr.predict(X_test)\n",
    "# Model Accurarcy\n",
    "cal_accuracy(y_test, y_lr_predicted)\n",
    "LR_accuracy = model_accuracy(y_test, y_lr_predicted)"
   ]
  },
  {
   "cell_type": "code",
   "execution_count": null,
   "metadata": {},
   "outputs": [],
   "source": []
  }
 ],
 "metadata": {
  "kernelspec": {
   "display_name": "Python 3",
   "language": "python",
   "name": "python3"
  },
  "language_info": {
   "codemirror_mode": {
    "name": "ipython",
    "version": 3
   },
   "file_extension": ".py",
   "mimetype": "text/x-python",
   "name": "python",
   "nbconvert_exporter": "python",
   "pygments_lexer": "ipython3",
   "version": "3.7.6"
  }
 },
 "nbformat": 4,
 "nbformat_minor": 4
}
