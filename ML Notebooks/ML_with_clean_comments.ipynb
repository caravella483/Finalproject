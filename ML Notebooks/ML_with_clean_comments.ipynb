{
 "cells": [
  {
   "cell_type": "code",
   "execution_count": 1,
   "metadata": {},
   "outputs": [],
   "source": [
    "# Dependencies\n",
    "\n",
    "import pandas as pd\n",
    "import numpy as np\n",
    "from sklearn.feature_extraction.text import CountVectorizer\n",
    "from sklearn.model_selection import train_test_split\n",
    "from sklearn.metrics import classification_report\n",
    "import matplotlib.pyplot as plt\n",
    "from sklearn.metrics import confusion_matrix \n",
    "from sklearn.metrics import accuracy_score"
   ]
  },
  {
   "cell_type": "code",
   "execution_count": 2,
   "metadata": {},
   "outputs": [
    {
     "data": {
      "text/html": [
       "<div>\n",
       "<style scoped>\n",
       "    .dataframe tbody tr th:only-of-type {\n",
       "        vertical-align: middle;\n",
       "    }\n",
       "\n",
       "    .dataframe tbody tr th {\n",
       "        vertical-align: top;\n",
       "    }\n",
       "\n",
       "    .dataframe thead th {\n",
       "        text-align: right;\n",
       "    }\n",
       "</style>\n",
       "<table border=\"1\" class=\"dataframe\">\n",
       "  <thead>\n",
       "    <tr style=\"text-align: right;\">\n",
       "      <th></th>\n",
       "      <th>Reviewer_Nationality</th>\n",
       "      <th>Full_Review</th>\n",
       "      <th>Content_Parsed</th>\n",
       "    </tr>\n",
       "  </thead>\n",
       "  <tbody>\n",
       "    <tr>\n",
       "      <th>0</th>\n",
       "      <td>Ireland</td>\n",
       "      <td>No real complaints the hotel was great great ...</td>\n",
       "      <td>real complaints  hotel  great great location...</td>\n",
       "    </tr>\n",
       "    <tr>\n",
       "      <th>1</th>\n",
       "      <td>Australia</td>\n",
       "      <td>Location was good and staff were ok It is cut...</td>\n",
       "      <td>location  good  staff  ok   cute hotel  break...</td>\n",
       "    </tr>\n",
       "    <tr>\n",
       "      <th>2</th>\n",
       "      <td>UnitedKingdom</td>\n",
       "      <td>Great location in nice surroundings the bar a...</td>\n",
       "      <td>great location  nice surround  bar  restauran...</td>\n",
       "    </tr>\n",
       "    <tr>\n",
       "      <th>3</th>\n",
       "      <td>UnitedKingdom</td>\n",
       "      <td>The room is spacious and bright The hotel is ...</td>\n",
       "      <td>room  spacious  bright  hotel  locate   quie...</td>\n",
       "    </tr>\n",
       "    <tr>\n",
       "      <th>4</th>\n",
       "      <td>UnitedKingdom</td>\n",
       "      <td>Good location Set in a lovely park friendly s...</td>\n",
       "      <td>good location set   lovely park friendly staf...</td>\n",
       "    </tr>\n",
       "  </tbody>\n",
       "</table>\n",
       "</div>"
      ],
      "text/plain": [
       "  Reviewer_Nationality                                        Full_Review  \\\n",
       "0              Ireland   No real complaints the hotel was great great ...   \n",
       "1            Australia   Location was good and staff were ok It is cut...   \n",
       "2        UnitedKingdom   Great location in nice surroundings the bar a...   \n",
       "3        UnitedKingdom   The room is spacious and bright The hotel is ...   \n",
       "4        UnitedKingdom   Good location Set in a lovely park friendly s...   \n",
       "\n",
       "                                      Content_Parsed  \n",
       "0    real complaints  hotel  great great location...  \n",
       "1   location  good  staff  ok   cute hotel  break...  \n",
       "2   great location  nice surround  bar  restauran...  \n",
       "3    room  spacious  bright  hotel  locate   quie...  \n",
       "4   good location set   lovely park friendly staf...  "
      ]
     },
     "execution_count": 2,
     "metadata": {},
     "output_type": "execute_result"
    }
   ],
   "source": [
    "hr_df = pd.read_csv(\"../../Final Project/contentparsed.csv\")\n",
    "\n",
    "hr_df.head()"
   ]
  },
  {
   "cell_type": "code",
   "execution_count": 3,
   "metadata": {},
   "outputs": [
    {
     "name": "stdout",
     "output_type": "stream",
     "text": [
      "(326115,) (326115,)\n"
     ]
    }
   ],
   "source": [
    "X = hr_df[\"Content_Parsed\"].values.astype(\"U\")\n",
    "y = hr_df[\"Reviewer_Nationality\"]\n",
    "print(X.shape, y.shape)"
   ]
  },
  {
   "cell_type": "code",
   "execution_count": 4,
   "metadata": {},
   "outputs": [
    {
     "data": {
      "text/plain": [
       "('  real complaints  hotel  great great location surround room amenities  service two recommendations however firstly  staff upon check    confuse regard deposit payments   staff offer  upon checkout  refund  original payment    make  new one bite confuse secondly   site restaurant   bite lack  well think   excellent quality food  anyone   vegetarian  vegan background  even  wrap  toast sandwich option would  great aside   minor minor things fantastic spot    back   return  amsterdam ',\n",
       " 'Ireland')"
      ]
     },
     "execution_count": 4,
     "metadata": {},
     "output_type": "execute_result"
    }
   ],
   "source": [
    "X[0],y[0]"
   ]
  },
  {
   "cell_type": "code",
   "execution_count": 5,
   "metadata": {},
   "outputs": [
    {
     "name": "stdout",
     "output_type": "stream",
     "text": [
      "UnitedKingdom            244457\n",
      "UnitedStatesofAmerica     35196\n",
      "Australia                 21540\n",
      "Ireland                   14746\n",
      "UnitedArabEmirates        10176\n",
      "Name: Reviewer_Nationality, dtype: int64\n"
     ]
    }
   ],
   "source": [
    "print(hr_df[\"Reviewer_Nationality\"].value_counts())"
   ]
  },
  {
   "cell_type": "code",
   "execution_count": 6,
   "metadata": {},
   "outputs": [],
   "source": [
    "cv = CountVectorizer()\n",
    "X = cv.fit_transform(X) # Fit the Data"
   ]
  },
  {
   "cell_type": "code",
   "execution_count": 7,
   "metadata": {},
   "outputs": [],
   "source": [
    "X_train, X_test, y_train, y_test = train_test_split(X, y, test_size=0.33, random_state=42)\n",
    "from sklearn.feature_extraction.text import CountVectorizer ,TfidfVectorizer"
   ]
  },
  {
   "cell_type": "code",
   "execution_count": 8,
   "metadata": {},
   "outputs": [],
   "source": [
    "# Function to calculate accuracy , confusion matrix, classification report\n",
    "def cal_accuracy(y_test, y_pred): \n",
    "      \n",
    "    print(\"\"\"\\nConfusion Matrix: \\n\"\"\", \n",
    "        confusion_matrix(y_test, y_pred)) \n",
    "      \n",
    "    print (\"\\nAccuracy : \\n\", \n",
    "    accuracy_score(y_test,y_pred)*100) \n",
    "      \n",
    "    print(\"\\nClassification Report : \\n\", \n",
    "    classification_report(y_test, y_pred))"
   ]
  },
  {
   "cell_type": "code",
   "execution_count": 9,
   "metadata": {},
   "outputs": [],
   "source": [
    "# Function to calculate accuracy score\n",
    "def model_accuracy(y_test, y_pred): \n",
    "        return accuracy_score(y_test,y_pred)*100"
   ]
  },
  {
   "cell_type": "code",
   "execution_count": 10,
   "metadata": {},
   "outputs": [],
   "source": [
    "###naive_bayes"
   ]
  },
  {
   "cell_type": "code",
   "execution_count": 11,
   "metadata": {},
   "outputs": [],
   "source": [
    "from sklearn.naive_bayes import MultinomialNB"
   ]
  },
  {
   "cell_type": "code",
   "execution_count": 12,
   "metadata": {},
   "outputs": [
    {
     "name": "stdout",
     "output_type": "stream",
     "text": [
      "\n",
      "Confusion Matrix: \n",
      " [[  533    18     8  5872   613]\n",
      " [   68    53     9  4580   183]\n",
      " [   57    14   158  2767   399]\n",
      " [  758   224   177 77763  1734]\n",
      " [  143    19    45  6784  4639]]\n",
      "\n",
      "Accuracy : \n",
      " 77.26030961363341\n",
      "\n",
      "Classification Report : \n",
      "                        precision    recall  f1-score   support\n",
      "\n",
      "            Australia       0.34      0.08      0.12      7044\n",
      "              Ireland       0.16      0.01      0.02      4893\n",
      "   UnitedArabEmirates       0.40      0.05      0.08      3395\n",
      "        UnitedKingdom       0.80      0.96      0.87     80656\n",
      "UnitedStatesofAmerica       0.61      0.40      0.48     11630\n",
      "\n",
      "             accuracy                           0.77    107618\n",
      "            macro avg       0.46      0.30      0.32    107618\n",
      "         weighted avg       0.70      0.77      0.72    107618\n",
      "\n"
     ]
    }
   ],
   "source": [
    "# Naive Bayes Model\n",
    "clf = MultinomialNB()\n",
    "# Model Fit\n",
    "clf.fit(X_train,y_train)\n",
    "# Model Score\n",
    "clf.score(X_test,y_test)\n",
    "# Model Prediction\n",
    "y_pred = clf.predict(X_test)\n",
    "# Model Accuracy\n",
    "cal_accuracy(y_test, y_pred)\n",
    "NB_accuracy = model_accuracy(y_test, y_pred)"
   ]
  },
  {
   "cell_type": "code",
   "execution_count": 13,
   "metadata": {},
   "outputs": [],
   "source": [
    "###LR"
   ]
  },
  {
   "cell_type": "code",
   "execution_count": 14,
   "metadata": {},
   "outputs": [],
   "source": [
    "from sklearn.linear_model import LogisticRegression"
   ]
  },
  {
   "cell_type": "code",
   "execution_count": 15,
   "metadata": {},
   "outputs": [
    {
     "name": "stderr",
     "output_type": "stream",
     "text": [
      "C:\\Users\\jcaravella\\Anaconda3\\lib\\site-packages\\sklearn\\linear_model\\_logistic.py:940: ConvergenceWarning: lbfgs failed to converge (status=1):\n",
      "STOP: TOTAL NO. of ITERATIONS REACHED LIMIT.\n",
      "\n",
      "Increase the number of iterations (max_iter) or scale the data as shown in:\n",
      "    https://scikit-learn.org/stable/modules/preprocessing.html\n",
      "Please also refer to the documentation for alternative solver options:\n",
      "    https://scikit-learn.org/stable/modules/linear_model.html#logistic-regression\n",
      "  extra_warning_msg=_LOGISTIC_SOLVER_CONVERGENCE_MSG)\n"
     ]
    },
    {
     "name": "stdout",
     "output_type": "stream",
     "text": [
      "\n",
      "Confusion Matrix: \n",
      " [[  745    40    46  5720   493]\n",
      " [   56   170    26  4496   145]\n",
      " [   50    19   364  2651   311]\n",
      " [  567   270   282 78173  1364]\n",
      " [  200    29   109  6459  4833]]\n",
      "\n",
      "Accuracy : \n",
      " 78.31868274823914\n",
      "\n",
      "Classification Report : \n",
      "                        precision    recall  f1-score   support\n",
      "\n",
      "            Australia       0.46      0.11      0.17      7044\n",
      "              Ireland       0.32      0.03      0.06      4893\n",
      "   UnitedArabEmirates       0.44      0.11      0.17      3395\n",
      "        UnitedKingdom       0.80      0.97      0.88     80656\n",
      "UnitedStatesofAmerica       0.68      0.42      0.51     11630\n",
      "\n",
      "             accuracy                           0.78    107618\n",
      "            macro avg       0.54      0.33      0.36    107618\n",
      "         weighted avg       0.73      0.78      0.73    107618\n",
      "\n"
     ]
    }
   ],
   "source": [
    "# Logistic Regression Model\n",
    "lr = LogisticRegression(random_state= 42)\n",
    "# Model Fit\n",
    "lr = lr.fit(X_train, y_train)\n",
    "# Model Score\n",
    "lr.score(X_test, y_test)\n",
    "# Model Predict\n",
    "y_lr_predicted = lr.predict(X_test)\n",
    "# Model Accurarcy\n",
    "cal_accuracy(y_test, y_lr_predicted)\n",
    "LR_accuracy = model_accuracy(y_test, y_lr_predicted)"
   ]
  },
  {
   "cell_type": "code",
   "execution_count": 16,
   "metadata": {},
   "outputs": [],
   "source": [
    "##Decision Tree"
   ]
  },
  {
   "cell_type": "code",
   "execution_count": 17,
   "metadata": {},
   "outputs": [],
   "source": [
    "from sklearn import tree"
   ]
  },
  {
   "cell_type": "code",
   "execution_count": 18,
   "metadata": {},
   "outputs": [
    {
     "name": "stdout",
     "output_type": "stream",
     "text": [
      "\n",
      "Confusion Matrix: \n",
      " [[  677   317   203  4938   909]\n",
      " [  274   251   136  3779   453]\n",
      " [  192   106   288  2377   432]\n",
      " [ 4174  3220  1896 65858  5508]\n",
      " [  854   423   449  6790  3114]]\n",
      "\n",
      "Accuracy : \n",
      " 65.21957293389582\n",
      "\n",
      "Classification Report : \n",
      "                        precision    recall  f1-score   support\n",
      "\n",
      "            Australia       0.11      0.10      0.10      7044\n",
      "              Ireland       0.06      0.05      0.05      4893\n",
      "   UnitedArabEmirates       0.10      0.08      0.09      3395\n",
      "        UnitedKingdom       0.79      0.82      0.80     80656\n",
      "UnitedStatesofAmerica       0.30      0.27      0.28     11630\n",
      "\n",
      "             accuracy                           0.65    107618\n",
      "            macro avg       0.27      0.26      0.27    107618\n",
      "         weighted avg       0.63      0.65      0.64    107618\n",
      "\n"
     ]
    }
   ],
   "source": [
    "# Decision Tree Model\n",
    "tree_clf = tree.DecisionTreeClassifier()\n",
    "# Model Fit\n",
    "tree_clf = tree_clf.fit(X_train,y_train)\n",
    "# Model score\n",
    "tree_clf.score(X_test, y_test)\n",
    "# Model Predict\n",
    "y_tree_predicted = tree_clf.predict(X_test)\n",
    "# Model Accurarcy\n",
    "cal_accuracy(y_test, y_tree_predicted)\n",
    "DT_accuracy = model_accuracy(y_test, y_tree_predicted)"
   ]
  },
  {
   "cell_type": "code",
   "execution_count": 19,
   "metadata": {},
   "outputs": [],
   "source": [
    "#####Random Forest\n",
    "\n",
    "from sklearn.ensemble import RandomForestClassifier"
   ]
  },
  {
   "cell_type": "code",
   "execution_count": 20,
   "metadata": {},
   "outputs": [
    {
     "name": "stdout",
     "output_type": "stream",
     "text": [
      "\n",
      "Confusion Matrix: \n",
      " [[   50    10    11  6885    88]\n",
      " [   11    10    12  4824    36]\n",
      " [    8    10    59  3239    79]\n",
      " [  128   103   126 79920   379]\n",
      " [   34    14    29 10503  1050]]\n",
      "\n",
      "Accuracy : \n",
      " 75.34891932576335\n",
      "\n",
      "Classification Report : \n",
      "                        precision    recall  f1-score   support\n",
      "\n",
      "            Australia       0.22      0.01      0.01      7044\n",
      "              Ireland       0.07      0.00      0.00      4893\n",
      "   UnitedArabEmirates       0.25      0.02      0.03      3395\n",
      "        UnitedKingdom       0.76      0.99      0.86     80656\n",
      "UnitedStatesofAmerica       0.64      0.09      0.16     11630\n",
      "\n",
      "             accuracy                           0.75    107618\n",
      "            macro avg       0.39      0.22      0.21    107618\n",
      "         weighted avg       0.66      0.75      0.66    107618\n",
      "\n"
     ]
    }
   ],
   "source": [
    "# Random Forest Model\n",
    "rf = RandomForestClassifier(n_estimators=200)\n",
    "# Model Fit\n",
    "rf = rf.fit(X_train, y_train)\n",
    "# Model Score\n",
    "rf.score(X_test, y_test)\n",
    "# Model Predict\n",
    "y_rf_predicted = rf.predict(X_test)\n",
    "# Model Accurarcy\n",
    "cal_accuracy(y_test, y_rf_predicted)\n",
    "RF_accuracy = model_accuracy(y_test, y_rf_predicted)"
   ]
  },
  {
   "cell_type": "code",
   "execution_count": 21,
   "metadata": {},
   "outputs": [],
   "source": [
    "##KNN"
   ]
  },
  {
   "cell_type": "code",
   "execution_count": 22,
   "metadata": {},
   "outputs": [],
   "source": [
    "from sklearn.neighbors import KNeighborsClassifier"
   ]
  },
  {
   "cell_type": "code",
   "execution_count": null,
   "metadata": {},
   "outputs": [
    {
     "name": "stdout",
     "output_type": "stream",
     "text": [
      "k: 1, Train/Test Score: 0.976/0.609\n",
      "k: 3, Train/Test Score: 0.780/0.660\n",
      "k: 5, Train/Test Score: 0.765/0.719\n",
      "k: 7, Train/Test Score: 0.759/0.735\n",
      "k: 9, Train/Test Score: 0.755/0.743\n"
     ]
    }
   ],
   "source": [
    "# KNN Model\n",
    "train_scores = []\n",
    "test_scores = []\n",
    "for k in range(1, 40, 2):\n",
    "    # Knn Model\n",
    "    knn = KNeighborsClassifier(n_neighbors=k)\n",
    "    # Model Fit\n",
    "    knn.fit(X_train, y_train)\n",
    "    # Model score\n",
    "    train_score = knn.score(X_train, y_train)\n",
    "    test_score = knn.score(X_test, y_test)\n",
    "    train_scores.append(train_score)\n",
    "    test_scores.append(test_score)\n",
    "    print(f\"k: {k}, Train/Test Score: {train_score:.3f}/{test_score:.3f}\")\n",
    "    \n",
    "# Plot    \n",
    "plt.plot(range(1, 40, 2), train_scores, marker='o')\n",
    "plt.plot(range(1, 40, 2), test_scores, marker=\"x\")\n",
    "plt.xlabel(\"k neighbors\")\n",
    "plt.ylabel(\"Testing accuracy Score\")\n",
    "plt.show()"
   ]
  },
  {
   "cell_type": "code",
   "execution_count": null,
   "metadata": {},
   "outputs": [],
   "source": [
    "# KNN Model\n",
    "train_scores = []\n",
    "test_scores = []\n",
    "for k in range(1, 40, 2):\n",
    "    # Knn Model\n",
    "    knn = KNeighborsClassifier(n_neighbors=k)\n",
    "    # Model Fit\n",
    "    knn.fit(X_train, y_train)\n",
    "    # Model score\n",
    "    train_score = knn.score(X_train, y_train)\n",
    "    test_score = knn.score(X_test, y_test)\n",
    "    train_scores.append(train_score)\n",
    "    test_scores.append(test_score)\n",
    "    print(f\"k: {k}, Train/Test Score: {train_score:.3f}/{test_score:.3f}\")\n",
    "    \n",
    "# Plot    \n",
    "#plt.plot(range(1, 40, 2), train_scores, marker='o')\n",
    "#plt.plot(range(1, 40, 2), test_scores, marker=\"x\")\n",
    "#plt.xlabel(\"k neighbors\")\n",
    "#plt.ylabel(\"Testing accuracy Score\")\n",
    "#plt.show()"
   ]
  },
  {
   "cell_type": "code",
   "execution_count": null,
   "metadata": {},
   "outputs": [],
   "source": [
    "# Note that k: 29 provides the best accuracy where the classifier starts to stablize\n",
    "# Model\n",
    "knn = KNeighborsClassifier(n_neighbors=29)\n",
    "# Model Fit\n",
    "knn.fit(X_train, y_train)\n",
    "print(\"K= 29\")\n",
    "# Model Predict\n",
    "y_knn_predicted = knn.predict(X_test)\n",
    "# Model Accurarcy\n",
    "cal_accuracy(y_test, y_knn_predicted)\n",
    "KNN_accuracy = model_accuracy(y_test, y_knn_predicted)"
   ]
  },
  {
   "cell_type": "code",
   "execution_count": null,
   "metadata": {},
   "outputs": [],
   "source": []
  }
 ],
 "metadata": {
  "kernelspec": {
   "display_name": "Python 3",
   "language": "python",
   "name": "python3"
  },
  "language_info": {
   "codemirror_mode": {
    "name": "ipython",
    "version": 3
   },
   "file_extension": ".py",
   "mimetype": "text/x-python",
   "name": "python",
   "nbconvert_exporter": "python",
   "pygments_lexer": "ipython3",
   "version": "3.7.6"
  }
 },
 "nbformat": 4,
 "nbformat_minor": 4
}
